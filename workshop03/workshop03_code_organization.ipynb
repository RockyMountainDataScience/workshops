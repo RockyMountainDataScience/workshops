{
 "cells": [
  {
   "cell_type": "markdown",
   "metadata": {},
   "source": [
    "# Organize Mike's messy code.\n",
    "\n",
    "(Academic research code tend to look like this)\n",
    "\n",
    "Takeaway goals for today's workshop:\n",
    "- import libraries\n",
    "- read clean csv data\n",
    "- visualize data\n",
    "- organize code by their tasks\n",
    "- add comments and doc strings\n",
    "- and most importantly: organize my code!"
   ]
  },
  {
   "cell_type": "code",
   "execution_count": 2,
   "metadata": {},
   "outputs": [
    {
     "name": "stdout",
     "output_type": "stream",
     "text": [
      "Mean avocado price $ 1.41\n",
      "Mean pepper price $ 1.11\n",
      "Mean straberry price $ 2.01\n",
      "\n",
      "\n",
      "Min avocado price $ 0.44\n",
      "Min pepper price $ 0.14\n",
      "Min straberry price $ 1.04\n",
      "\n",
      "\n",
      "Max avocado price $ 3.25\n",
      "Max pepper price $ 2.95\n",
      "Max straberry price $ 3.85\n"
     ]
    },
    {
     "data": {
      "image/png": "[encoded data removed]",
      "text/plain": [
       "<Figure size 432x288 with 1 Axes>"
      ]
     },
     "metadata": {
      "needs_background": "light"
     },
     "output_type": "display_data"
    }
   ],
   "source": [
    "import csv\n",
    "import numpy as np\n",
    "import matplotlib.pyplot as plt\n",
    "\n",
    "%matplotlib inline\n",
    "\n",
    "avocado_prices, avocado_regions = [], []\n",
    "\n",
    "with open('avocado.csv') as f:\n",
    "    reader = csv.reader(f)\n",
    "    next(reader) # Skip header\n",
    "    for row in reader:\n",
    "        avocado_prices.append(float(row[0]))\n",
    "        avocado_regions.append(row[1])\n",
    "        \n",
    "pepper_prices, pepper_regions = [], []\n",
    "\n",
    "with open('pepper.csv') as f:\n",
    "    reader = csv.reader(f)\n",
    "    next(reader) # Skip header\n",
    "    for row in reader:\n",
    "        pepper_prices.append(float(row[0]))\n",
    "        pepper_regions.append(row[1])\n",
    "        \n",
    "straberry_prices, straberry_regions = [], []\n",
    "\n",
    "with open('strawberry.csv') as f:\n",
    "    reader = csv.reader(f)\n",
    "    next(reader) # Skip header\n",
    "    for row in reader:\n",
    "        straberry_prices.append(float(row[0]))\n",
    "        straberry_regions.append(row[1])\n",
    "        \n",
    "mean_avocado   = np.mean(avocado_prices)\n",
    "mean_pepper    = np.mean(pepper_prices)\n",
    "mean_straberry = np.mean(straberry_prices)\n",
    "\n",
    "print(f\"Mean avocado price $ {round(mean_avocado, 2)}\")\n",
    "print(f\"Mean pepper price $ {round(mean_pepper, 2)}\")\n",
    "print(f\"Mean straberry price $ {round(mean_straberry, 2)}\")\n",
    "\n",
    "min_avocado   = np.min(avocado_prices)\n",
    "min_pepper    = np.min(pepper_prices)\n",
    "min_straberry = np.min(straberry_prices)\n",
    "\n",
    "print('\\n')\n",
    "print(f\"Min avocado price $ {round(min_avocado, 2)}\")\n",
    "print(f\"Min pepper price $ {round(min_pepper, 2)}\")\n",
    "print(f\"Min straberry price $ {round(min_straberry, 2)}\")\n",
    "\n",
    "max_avocado   = np.max(avocado_prices)\n",
    "max_pepper    = np.max(pepper_prices)\n",
    "max_straberry = np.max(straberry_prices)\n",
    "\n",
    "print('\\n')\n",
    "print(f\"Max avocado price $ {round(max_avocado, 2)}\")\n",
    "print(f\"Max pepper price $ {round(max_pepper, 2)}\")\n",
    "print(f\"Max straberry price $ {round(max_straberry, 2)}\")\n",
    "\n",
    "plt.hist(avocado_prices)\n",
    "plt.hist(pepper_prices)\n",
    "plt.hist(straberry_prices)\n",
    "plt.title('Price distributions for avocados, peppers, and strawberries')\n",
    "plt.xlabel('Price [USD]')\n",
    "plt.ylabel('Number')\n",
    "plt.show()"
   ]
  },
  {
   "cell_type": "markdown",
   "metadata": {},
   "source": [
    "## Tasks: \n",
    "- Condense my mess into function calls\n",
    "- Add comments and doc strings to functions \n",
    "\n",
    "## Extra credit: \n",
    "- Find the region with the chapest and most expensive avocados. (*Hint: look into the np.argmin() function*)"
   ]
  }
 ],
 "metadata": {
  "kernelspec": {
   "display_name": "Python 3",
   "language": "python",
   "name": "python3"
  },
  "language_info": {
   "codemirror_mode": {
    "name": "ipython",
    "version": 3
   },
   "file_extension": ".py",
   "mimetype": "text/x-python",
   "name": "python",
   "nbconvert_exporter": "python",
   "pygments_lexer": "ipython3",
   "version": "3.6.8"
  }
 },
 "nbformat": 4,
 "nbformat_minor": 2
}
