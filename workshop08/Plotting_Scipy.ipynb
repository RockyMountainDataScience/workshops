{
 "cells": [
  {
   "cell_type": "markdown",
   "metadata": {},
   "source": [
    "# Plotting Techniques\n",
    "\n",
    "- matplotlib : common plotting library for 2D plots\n",
    "\n",
    "In this workshop we will see: \n",
    "    - Image plots\n",
    "    - Linear plots\n",
    "    - Scatter plots\n",
    "    - Bar plots\n",
    "as well as:\n",
    "    - modifying axis\n",
    "    - adding subplots\n",
    "    - adding colorbars\n",
    "    - plotting multiple 'linear' plots on the same figure\n",
    "    - 'fancy' scatter plots\n",
    "    - adjusting figure size\n",
    "    - saving plots to files"
   ]
  },
  {
   "cell_type": "markdown",
   "metadata": {},
   "source": [
    "# Image plot\n"
   ]
  },
  {
   "cell_type": "code",
   "execution_count": null,
   "metadata": {},
   "outputs": [],
   "source": [
    "import matplotlib.pyplot as plt\n",
    "from sklearn import datasets\n",
    "\n",
    "MNIST = datasets.load_digits()\n",
    "\n",
    "digit = MNIST.images[132]\n",
    "\n",
    "plt.imshow(digit)\n",
    "plt.show()"
   ]
  },
  {
   "cell_type": "code",
   "execution_count": null,
   "metadata": {
    "scrolled": true
   },
   "outputs": [],
   "source": [
    "plt.subplot(121)\n",
    "plt.imshow(digit)\n",
    "plt.subplot(122)\n",
    "plt.imshow(digit)\n",
    "plt.axis('off')\n",
    "plt.show()"
   ]
  },
  {
   "cell_type": "code",
   "execution_count": null,
   "metadata": {},
   "outputs": [],
   "source": [
    "plt.subplot(121)\n",
    "plt.imshow(digit)\n",
    "plt.subplot(122)\n",
    "plt.imshow(digit,cmap='winter')\n",
    "plt.colorbar()\n",
    "plt.axis('off')\n",
    "plt.show()"
   ]
  },
  {
   "cell_type": "markdown",
   "metadata": {},
   "source": [
    "# Linear Plot"
   ]
  },
  {
   "cell_type": "code",
   "execution_count": null,
   "metadata": {},
   "outputs": [],
   "source": [
    "import numpy as np\n",
    "\n",
    "X = range(0,30)\n",
    "random_Y = np.random.randint(0,10,30)\n",
    "\n",
    "plt.plot(X,random_Y)\n",
    "plt.show()"
   ]
  },
  {
   "cell_type": "code",
   "execution_count": null,
   "metadata": {},
   "outputs": [],
   "source": [
    "plt.plot(X,random_Y)\n",
    "plt.xlabel('Random Draw')\n",
    "plt.ylabel('Random Number')\n",
    "plt.show()"
   ]
  },
  {
   "cell_type": "markdown",
   "metadata": {},
   "source": [
    "# Scatter plot"
   ]
  },
  {
   "cell_type": "code",
   "execution_count": null,
   "metadata": {},
   "outputs": [],
   "source": [
    "plt.plot(X,random_Y,'ro')\n",
    "plt.show()"
   ]
  },
  {
   "cell_type": "code",
   "execution_count": null,
   "metadata": {},
   "outputs": [],
   "source": [
    "plt.plot(X,random_Y,'ro',X,random_Y,'g')\n",
    "plt.show()"
   ]
  },
  {
   "cell_type": "code",
   "execution_count": null,
   "metadata": {},
   "outputs": [],
   "source": [
    "plt.scatter(X,random_Y)\n",
    "plt.show()"
   ]
  },
  {
   "cell_type": "code",
   "execution_count": null,
   "metadata": {},
   "outputs": [],
   "source": [
    "plt.scatter(X,random_Y,c=random_Y,s=50*random_Y)\n",
    "plt.show()"
   ]
  },
  {
   "cell_type": "markdown",
   "metadata": {},
   "source": [
    "# Bar Plot"
   ]
  },
  {
   "cell_type": "code",
   "execution_count": null,
   "metadata": {},
   "outputs": [],
   "source": [
    "bins = range(0,10)\n",
    "values = np.zeros(10)\n",
    "for num in random_Y:\n",
    "    values[num] += 1\n",
    "\n",
    "plt.bar(bins,values)\n",
    "plt.xlabel('Randomly Generated Digit')\n",
    "plt.ylabel('Number of times Digit was generated')\n",
    "plt.show()"
   ]
  },
  {
   "cell_type": "code",
   "execution_count": null,
   "metadata": {},
   "outputs": [],
   "source": [
    "fig, ax = plt.subplots(1,3)\n",
    "ax[0].bar(bins,values)\n",
    "ax[1].scatter(bins,values)\n",
    "ax[2].plot(bins,values)\n",
    "plt.show()"
   ]
  },
  {
   "cell_type": "code",
   "execution_count": null,
   "metadata": {
    "scrolled": true
   },
   "outputs": [],
   "source": [
    "fig, ax = plt.subplots(1,3,figsize=(36,10))\n",
    "ax[0].bar(bins,values)\n",
    "ax[1].scatter(bins,values)\n",
    "ax[2].plot(bins,values)\n",
    "plt.savefig('figurename.png', bbox_inches='tight')\n",
    "plt.show()\n"
   ]
  },
  {
   "cell_type": "markdown",
   "metadata": {},
   "source": [
    "# Scipy\n",
    "\n",
    "Open source collection of libraries related to data science in python... includes a scipy library\n",
    "- scipy library: has numerical computing functions for \n",
    "    - numerical integration\n",
    "    - signal processing\n",
    "    - probability and random number generating\n",
    "    - image processing\n",
    "    "
   ]
  },
  {
   "cell_type": "code",
   "execution_count": null,
   "metadata": {},
   "outputs": [],
   "source": [
    "from scipy import misc\n",
    "from scipy import ndimage\n",
    "\n",
    "raccoon = misc.face(gray=True).astype('float')\n",
    "plt.imshow(raccoon, cmap='gray')\n",
    "plt.axis('off')\n",
    "plt.show()"
   ]
  },
  {
   "cell_type": "code",
   "execution_count": null,
   "metadata": {},
   "outputs": [],
   "source": [
    "# add some Gaussian noise\n",
    "\n",
    "noise = np.random.normal(0,1,raccoon.shape)\n",
    "\n",
    "noisy_raccoon = raccoon + 30*noise\n",
    "\n",
    "fig,ax = plt.subplots(1,3,figsize=(50,40))\n",
    "ax[0].imshow(raccoon[200:600,200:600],cmap='gray')\n",
    "ax[0].axis('off')\n",
    "ax[1].imshow(noise[200:600,200:600],cmap='gray')\n",
    "ax[1].axis('off')\n",
    "ax[2].imshow(noisy_raccoon[200:600,200:600],cmap='gray')\n",
    "ax[2].axis('off')\n",
    "plt.show()"
   ]
  },
  {
   "cell_type": "markdown",
   "metadata": {},
   "source": [
    "# Tasks\n",
    "\n",
    "## Image processing:\n",
    "\n",
    "    - Denoise noisy_raccoon by applying a Gaussian filter (hint: try ndimage.gaussian_filter)\n",
    "    - Binarize the image by setting values to zero if they are less than the mean, 255 if they are more\n",
    "    - Perform edge detection on the binary image \n",
    "        - use ndimage.sobel in both axial directions\n",
    "        - use np.hypot to stitch the edges together"
   ]
  },
  {
   "cell_type": "code",
   "execution_count": null,
   "metadata": {},
   "outputs": [],
   "source": []
  }
 ],
 "metadata": {
  "kernelspec": {
   "display_name": "Python 3",
   "language": "python",
   "name": "python3"
  },
  "language_info": {
   "codemirror_mode": {
    "name": "ipython",
    "version": 3
   },
   "file_extension": ".py",
   "mimetype": "text/x-python",
   "name": "python",
   "nbconvert_exporter": "python",
   "pygments_lexer": "ipython3",
   "version": "3.7.4"
  }
 },
 "nbformat": 4,
 "nbformat_minor": 2
}
