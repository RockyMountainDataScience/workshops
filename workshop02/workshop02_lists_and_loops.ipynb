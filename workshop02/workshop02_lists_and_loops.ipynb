{
 "cells": [
  {
   "cell_type": "markdown",
   "metadata": {
    "ein.tags": "worksheet-0",
    "slideshow": {
     "slide_type": "-"
    }
   },
   "source": [
    "# Getting help, introspection, lists and loops\n",
    "In this workshop we will cover the following topics:\n",
    "\n",
    "- A bit about the language\n",
    "- Getting Help\n",
    "- Introspection\n",
    "- Lists\n",
    "- For loops\n",
    "\n",
    "## The python language\n",
    "\n",
    "Python is an\n",
    "[object-oriented](https://en.wikipedia.org/wiki/Object-oriented_programming)\n",
    "high-level\n",
    "[dynamic](https://en.wikipedia.org/wiki/Dynamic_programming_language)\n",
    "(i.e. scripting) language that uses the python\n",
    "[interpreter](https://en.wikipedia.org/wiki/Interpreter_(computing))\n",
    "to run code. This is a useful thing when learning a language as it\n",
    "allows the user to get instant feedback on the functionality of their\n",
    "program because they are constantly interfacing with the system, which\n",
    "can speed up the learning process considerably. \n",
    "\n",
    "Also, as an Object Oriented Programming (OOP) language, everything in\n",
    "the language is an object which means it contains either or both of\n",
    "data in the form of fields (i.e. attributes or properties) and\n",
    "functions (i.e.\n",
    "[methods](https://en.wikipedia.org/wiki/Method_(computer_programming)))\n",
    "The consequence of this is that the objects we work with often\n",
    "will have data and functions attached to them in a\n",
    "[namespace](https://www.tutorialspoint.com/What-is-a-namespace-in-Python)\n",
    "that we will want to be aware of contained within the object\n",
    "itself. We will explore this a bit when discussing introspection.\n",
    "\n",
    "## Getting Help\n",
    "\n",
    "There are a large number of ways get help when working in python. For\n",
    "example, you might:\n",
    "\n",
    "- Search your favourite [search engine](https://duckduckgo.com/)\n",
    "- Look through the [python tutorial](https://docs.python.org/3/tutorial/index.html)\n",
    "- Watch some [tutorial videos](https://www.youtube.com/playlist?list=PLi01XoE8jYohWFPpC17Z-wWhPOSuh8Er-)\n",
    "- Look through the online [python documentation](https://docs.python.org/3/index.html)\n",
    "- Use the `help()` function to look at python documentation from within python \n",
    "- Inspect the source code of an object or function\n",
    "\n",
    "\n",
    "Python has a number of\n",
    "[built-in functions](https://docs.python.org/3/library/functions.html)\n",
    "including the `help()` function.\n",
    "\n",
    "|               |             |              |              |                |\n",
    "| :-------------| :-----------| :------------| :------------| :--------------|\n",
    "| abs()         | delattr()   | hash()       | memoryview() | set()          |\n",
    "| all()         | dict()      | help()       | min()        | setattr()      |\n",
    "| any()         | dir()       | hex()        | next()       | slice()        |\n",
    "| ascii()       | divmod()    | id()         | object()     | sorted()       |\n",
    "| bin()         | enumerate() | input()      | oct()        | staticmethod() |\n",
    "| bool()        | eval()      | int()        | open()       | str()          |\n",
    "| breakpoint()  | exec()      | isinstance() | ord()        | sum()          |\n",
    "| bytearray()   | filter()    | issubclass() | pow()        | super()        | \n",
    "| bytes()       | float()     | iter()       | print()      | tuple()        |\n",
    "| callable()    | format()    | len()        | property()   | type()         |\n",
    "| chr()         | frozenset() | list()       | range()      | vars()         |\n",
    "| classmethod() | getattr()   | locals()     | repr()       | zip()          |\n",
    "| compile()     | globals()   | map()        | reversed()   | __import__()   |\n",
    "| complex()     | hasattr()   | max()        | round()      |                |\n",
    "\n",
    "\n",
    "These functions are fundamental to the python language, and\n",
    "understanding what they do gives substantial insight into the\n",
    "inner workings of python.\n",
    "\n",
    "We have already learned about the `print()` function, a built-in\n",
    "function. Let's begin by looking at the help documentation for \n",
    "this function.\n"
   ]
  },
  {
   "cell_type": "code",
   "execution_count": null,
   "metadata": {
    "autoscroll": false,
    "collapsed": false,
    "ein.hycell": false,
    "ein.tags": "worksheet-0",
    "slideshow": {
     "slide_type": "-"
    }
   },
   "outputs": [],
   "source": [
    "help(print)"
   ]
  },
  {
   "cell_type": "markdown",
   "metadata": {
    "ein.tags": "worksheet-0",
    "slideshow": {
     "slide_type": "-"
    }
   },
   "source": [
    "We can use the help function on a module as well. For instance,\n",
    "let's import the `inspect` module and look at the help documentation\n",
    "for the module."
   ]
  },
  {
   "cell_type": "code",
   "execution_count": null,
   "metadata": {
    "autoscroll": false,
    "collapsed": false,
    "ein.hycell": false,
    "ein.tags": "worksheet-0",
    "slideshow": {
     "slide_type": "-"
    }
   },
   "outputs": [],
   "source": [
    "import inspect\n",
    "help(inspect)"
   ]
  },
  {
   "cell_type": "markdown",
   "metadata": {
    "ein.tags": "worksheet-0",
    "slideshow": {
     "slide_type": "-"
    }
   },
   "source": [
    "We see that we get the help documentation for the entire module,\n",
    "which is a great deal of information to sift through. Perhaps it\n",
    "would be better if we knew more precisely what function we need\n",
    "documentation for. \n",
    "\n",
    "We can also see the help documentation for a defined object. For\n",
    "example, consider the following code that gives us the help\n",
    "documentation for the list function."
   ]
  },
  {
   "cell_type": "code",
   "execution_count": null,
   "metadata": {
    "autoscroll": false,
    "collapsed": false,
    "ein.hycell": false,
    "ein.tags": "worksheet-0",
    "slideshow": {
     "slide_type": "-"
    }
   },
   "outputs": [],
   "source": [
    "a = [1, 2, 3, 4, 5]\n",
    "help(a)"
   ]
  },
  {
   "cell_type": "markdown",
   "metadata": {
    "ein.tags": "worksheet-0",
    "slideshow": {
     "slide_type": "-"
    }
   },
   "source": [
    "# Introspection\n",
    "\n",
    "Introspection specifically is a way to determine the type of an object\n",
    "at run time and is an integral feature of the Python language, but we\n",
    "will use the term a bit more loosely to refer to the practice of\n",
    "inspecting the contents of an object.\n",
    "\n",
    "In particular, there are a few things we might want to do during\n",
    "the development process. We might want to\n",
    "- know what type of object we are working with to be sure the code we\n",
    "  write will have the desired effect (use the `type()` function)\n",
    "- know what things we can do with or extract from an object\n",
    "  (autocompletion or the `dir()` function.  look at the source code of\n",
    "- some function or class use function.\n",
    "\n",
    "Introspection is useful for these tasks. For example, we can find out\n",
    "that a list object is of list type.\n"
   ]
  },
  {
   "cell_type": "code",
   "execution_count": null,
   "metadata": {
    "autoscroll": false,
    "collapsed": false,
    "ein.hycell": false,
    "ein.tags": "worksheet-0",
    "slideshow": {
     "slide_type": "-"
    }
   },
   "outputs": [],
   "source": [
    "a = [1, 2, 3, 4, 5]\n",
    "type(a)"
   ]
  },
  {
   "cell_type": "markdown",
   "metadata": {
    "ein.tags": "worksheet-0",
    "slideshow": {
     "slide_type": "-"
    }
   },
   "source": [
    "We might want to list off everything we can do with this object via autocompletion"
   ]
  },
  {
   "cell_type": "code",
   "execution_count": null,
   "metadata": {
    "autoscroll": false,
    "collapsed": false,
    "ein.hycell": false,
    "ein.tags": "worksheet-0",
    "slideshow": {
     "slide_type": "-"
    }
   },
   "outputs": [],
   "source": [
    "a.    # Press tab after the period to test out this feature in the jupyter notebook"
   ]
  },
  {
   "cell_type": "markdown",
   "metadata": {
    "ein.tags": "worksheet-0",
    "slideshow": {
     "slide_type": "-"
    }
   },
   "source": [
    "Or we can use the built-in `dir()` function if we don't have this\n",
    "feature in our editor or we're interfacing directly with the\n",
    "interpreter."
   ]
  },
  {
   "cell_type": "code",
   "execution_count": null,
   "metadata": {
    "autoscroll": false,
    "collapsed": false,
    "ein.hycell": false,
    "ein.tags": "worksheet-0",
    "slideshow": {
     "slide_type": "-"
    }
   },
   "outputs": [],
   "source": [
    "dir(a)"
   ]
  },
  {
   "cell_type": "markdown",
   "metadata": {
    "ein.tags": "worksheet-0",
    "slideshow": {
     "slide_type": "-"
    }
   },
   "source": [
    "Beyond this built in method, an entire module is available to aid in\n",
    "the task of introspection, namely the `inspect` module. We can load\n",
    "this module with the following import statement:"
   ]
  },
  {
   "cell_type": "code",
   "execution_count": null,
   "metadata": {
    "autoscroll": false,
    "collapsed": false,
    "ein.hycell": false,
    "ein.tags": "worksheet-0",
    "slideshow": {
     "slide_type": "-"
    }
   },
   "outputs": [],
   "source": [
    "import inspect"
   ]
  },
  {
   "cell_type": "markdown",
   "metadata": {
    "ein.tags": "worksheet-0",
    "slideshow": {
     "slide_type": "-"
    }
   },
   "source": [
    "One useful function in this module is the `getsource()`\n",
    "function. Let's use this function to find out how it\n",
    "obtains source code."
   ]
  },
  {
   "cell_type": "code",
   "execution_count": null,
   "metadata": {
    "autoscroll": false,
    "collapsed": false,
    "ein.hycell": false,
    "ein.tags": "worksheet-0",
    "slideshow": {
     "slide_type": "-"
    }
   },
   "outputs": [],
   "source": [
    "print(inspect.getsource(inspect.getsource))"
   ]
  },
  {
   "cell_type": "markdown",
   "metadata": {
    "ein.tags": "worksheet-0",
    "slideshow": {
     "slide_type": "-"
    }
   },
   "source": [
    "We can see a docstring that the authors have written describing what\n",
    "the function does along with two relatively simple lines of code that\n",
    "conduct the functionality of the function."
   ]
  },
  {
   "cell_type": "markdown",
   "metadata": {
    "ein.tags": "worksheet-0",
    "slideshow": {
     "slide_type": "-"
    }
   },
   "source": [
    "## List Datastructures\n",
    "\n",
    "Python has a number of built in\n",
    "[datastructures](https://docs.python.org/3/tutorial/datastructures.html#tuples-and-sequences)\n",
    "including:\n",
    "\n",
    "- Lists\n",
    "- Tuples\n",
    "- Sets\n",
    "- Dictionaries\n",
    "\n",
    "In this module, we will focus on lists and leave the learning of other\n",
    "datastructures for another time.\n",
    "\n",
    "First, let us create an empty list object called 'a'."
   ]
  },
  {
   "cell_type": "code",
   "execution_count": null,
   "metadata": {
    "autoscroll": false,
    "collapsed": false,
    "ein.hycell": false,
    "ein.tags": "worksheet-0",
    "slideshow": {
     "slide_type": "-"
    }
   },
   "outputs": [],
   "source": [
    "a = list() # Construct list object called 'a'\n",
    "a "
   ]
  },
  {
   "cell_type": "markdown",
   "metadata": {
    "ein.tags": "worksheet-0",
    "slideshow": {
     "slide_type": "-"
    }
   },
   "source": [
    "Now, let us learn about this object we have just created in a bit more\n",
    "depth. One thing we might as is what we can do with this object. We\n",
    "can use autocomplete or the `dir()` function to accomplish this task."
   ]
  },
  {
   "cell_type": "code",
   "execution_count": null,
   "metadata": {
    "autoscroll": false,
    "collapsed": false,
    "ein.hycell": false,
    "ein.tags": "worksheet-0",
    "slideshow": {
     "slide_type": "-"
    }
   },
   "outputs": [],
   "source": [
    "dir(a)"
   ]
  },
  {
   "cell_type": "markdown",
   "metadata": {
    "ein.tags": "worksheet-0",
    "slideshow": {
     "slide_type": "-"
    }
   },
   "source": [
    "We see that a number of methods are associated with list objects in\n",
    "particular and some methods for built-in functions are also\n",
    "defined. Some notable methods include\n",
    "\n",
    "- max\n",
    "- min\n",
    "- append\n",
    "- pop\n",
    "- sort\n",
    "- __len__ (i.e. the method that defines what the built-in `len()` function does)\n",
    "- __getitem__ (We can use this `a.__getitem__(2)` or syntax like `a[2]` to access the second element.\n",
    "\n",
    "Let's explore some of these a bit with the following lines of\n",
    "code. First, let us construct a list that contains some elements.\n"
   ]
  },
  {
   "cell_type": "code",
   "execution_count": null,
   "metadata": {
    "autoscroll": false,
    "collapsed": false,
    "ein.hycell": false,
    "ein.tags": "worksheet-0",
    "slideshow": {
     "slide_type": "-"
    }
   },
   "outputs": [],
   "source": [
    "a = [1, 2, 3, 4, 5]\n",
    "a"
   ]
  },
  {
   "cell_type": "markdown",
   "metadata": {
    "ein.tags": "worksheet-0",
    "slideshow": {
     "slide_type": "-"
    }
   },
   "source": [
    "We can access the 'first' element of code with the following:"
   ]
  },
  {
   "cell_type": "code",
   "execution_count": null,
   "metadata": {
    "autoscroll": false,
    "collapsed": false,
    "ein.hycell": false,
    "ein.tags": "worksheet-0",
    "slideshow": {
     "slide_type": "-"
    }
   },
   "outputs": [],
   "source": [
    "a[1] # Remember indexing starts at 0"
   ]
  },
  {
   "cell_type": "markdown",
   "metadata": {
    "ein.tags": "worksheet-0",
    "slideshow": {
     "slide_type": "-"
    }
   },
   "source": [
    "This is really just using the `__getitem__()` function:"
   ]
  },
  {
   "cell_type": "code",
   "execution_count": null,
   "metadata": {
    "autoscroll": false,
    "collapsed": false,
    "ein.hycell": false,
    "ein.tags": "worksheet-0",
    "slideshow": {
     "slide_type": "-"
    }
   },
   "outputs": [],
   "source": [
    "a.__getitem__(1)"
   ]
  },
  {
   "cell_type": "code",
   "execution_count": null,
   "metadata": {
    "autoscroll": false,
    "collapsed": false,
    "ein.hycell": false,
    "ein.tags": "worksheet-0",
    "slideshow": {
     "slide_type": "-"
    }
   },
   "outputs": [],
   "source": [
    "help(a.__getitem__)"
   ]
  },
  {
   "cell_type": "markdown",
   "metadata": {
    "ein.tags": "worksheet-0",
    "slideshow": {
     "slide_type": "-"
    }
   },
   "source": [
    "We can `append()` elements to the end of a list or `pop` them off.  In\n",
    "fact, these are two fundamental methods for a\n",
    "[list abstract data class](https://en.wikipedia.org/wiki/Linked_list)\n",
    "and their implementations have consequences for the computational complexity\n",
    "of these operations. We won't talk about this in detail, but it is\n",
    "important to keep in the back of your mind when profiling code for\n",
    "performance and understanding why implementing an algorithm one way\n",
    "can be faster or slower than implementing an algorithm another way.\n"
   ]
  },
  {
   "cell_type": "code",
   "execution_count": null,
   "metadata": {
    "autoscroll": false,
    "collapsed": false,
    "ein.hycell": false,
    "ein.tags": "worksheet-0",
    "slideshow": {
     "slide_type": "-"
    }
   },
   "outputs": [],
   "source": [
    "help(a.append)"
   ]
  },
  {
   "cell_type": "code",
   "execution_count": null,
   "metadata": {
    "autoscroll": false,
    "collapsed": false,
    "ein.hycell": false,
    "ein.tags": "worksheet-0",
    "slideshow": {
     "slide_type": "-"
    }
   },
   "outputs": [],
   "source": [
    "help(a.pop)"
   ]
  },
  {
   "cell_type": "code",
   "execution_count": null,
   "metadata": {
    "autoscroll": false,
    "collapsed": false,
    "ein.hycell": false,
    "ein.tags": "worksheet-0",
    "slideshow": {
     "slide_type": "-"
    }
   },
   "outputs": [],
   "source": [
    "a.append(1)\n",
    "a"
   ]
  },
  {
   "cell_type": "code",
   "execution_count": null,
   "metadata": {
    "autoscroll": false,
    "collapsed": false,
    "ein.hycell": false,
    "ein.tags": "worksheet-0",
    "slideshow": {
     "slide_type": "-"
    }
   },
   "outputs": [],
   "source": [
    "a.pop()\n",
    "a"
   ]
  },
  {
   "cell_type": "code",
   "execution_count": null,
   "metadata": {
    "autoscroll": false,
    "collapsed": false,
    "ein.hycell": false,
    "ein.tags": "worksheet-0",
    "slideshow": {
     "slide_type": "-"
    }
   },
   "outputs": [],
   "source": [
    "a.pop(0)\n",
    "a"
   ]
  },
  {
   "cell_type": "markdown",
   "metadata": {
    "ein.tags": "worksheet-0",
    "slideshow": {
     "slide_type": "-"
    }
   },
   "source": [
    "We can sum all of the values in a list"
   ]
  },
  {
   "cell_type": "code",
   "execution_count": null,
   "metadata": {
    "autoscroll": false,
    "collapsed": false,
    "ein.hycell": false,
    "ein.tags": "worksheet-0",
    "slideshow": {
     "slide_type": "-"
    }
   },
   "outputs": [],
   "source": [
    "a = [1, 2, 3, 4, 5]\n",
    "sum(a)"
   ]
  },
  {
   "cell_type": "markdown",
   "metadata": {
    "ein.tags": "worksheet-0",
    "slideshow": {
     "slide_type": "-"
    }
   },
   "source": [
    "Not all values in a list need to be of the same type"
   ]
  },
  {
   "cell_type": "code",
   "execution_count": null,
   "metadata": {
    "autoscroll": false,
    "collapsed": false,
    "ein.hycell": false,
    "ein.tags": "worksheet-0",
    "slideshow": {
     "slide_type": "-"
    }
   },
   "outputs": [],
   "source": [
    "a[2] = 'a'\n",
    "a"
   ]
  },
  {
   "cell_type": "markdown",
   "metadata": {
    "ein.tags": "worksheet-0",
    "slideshow": {
     "slide_type": "-"
    }
   },
   "source": [
    "But we can no longer use certain functions like `sum()`"
   ]
  },
  {
   "cell_type": "code",
   "execution_count": null,
   "metadata": {
    "autoscroll": false,
    "collapsed": false,
    "ein.hycell": false,
    "ein.tags": "worksheet-0",
    "slideshow": {
     "slide_type": "-"
    }
   },
   "outputs": [],
   "source": [
    "sum(a)"
   ]
  },
  {
   "cell_type": "markdown",
   "metadata": {
    "ein.tags": "worksheet-0",
    "slideshow": {
     "slide_type": "-"
    }
   },
   "source": [
    "But can use others like the built-in `len()` function"
   ]
  },
  {
   "cell_type": "code",
   "execution_count": null,
   "metadata": {
    "autoscroll": false,
    "collapsed": false,
    "ein.hycell": false,
    "ein.tags": "worksheet-0",
    "slideshow": {
     "slide_type": "-"
    }
   },
   "outputs": [],
   "source": [
    "len(a)"
   ]
  },
  {
   "cell_type": "markdown",
   "metadata": {
    "ein.tags": "worksheet-0",
    "slideshow": {
     "slide_type": "-"
    }
   },
   "source": [
    "Be careful when copying lists, as you may simply be creating a pointer\n",
    "rather than creating a new object."
   ]
  },
  {
   "cell_type": "code",
   "execution_count": null,
   "metadata": {
    "autoscroll": false,
    "collapsed": false,
    "ein.hycell": false,
    "ein.tags": "worksheet-0",
    "slideshow": {
     "slide_type": "-"
    }
   },
   "outputs": [],
   "source": [
    "a = [1, 2, 3, 4, 5]\n",
    "b = a # This doesn't create a new object, but rather points to a\n",
    "a[2] = 'a'"
   ]
  },
  {
   "cell_type": "code",
   "execution_count": null,
   "metadata": {
    "autoscroll": false,
    "collapsed": false,
    "ein.hycell": false,
    "ein.tags": "worksheet-0",
    "slideshow": {
     "slide_type": "-"
    }
   },
   "outputs": [],
   "source": [
    "a"
   ]
  },
  {
   "cell_type": "code",
   "execution_count": null,
   "metadata": {
    "autoscroll": false,
    "collapsed": false,
    "ein.hycell": false,
    "ein.tags": "worksheet-0",
    "slideshow": {
     "slide_type": "-"
    }
   },
   "outputs": [],
   "source": [
    "b"
   ]
  },
  {
   "cell_type": "markdown",
   "metadata": {
    "ein.tags": "worksheet-0",
    "slideshow": {
     "slide_type": "-"
    }
   },
   "source": [
    "The proper way to copy a list is to either use the `copy()` function\n",
    "or to slice all of the elements of a list with the `[:]` syntax."
   ]
  },
  {
   "cell_type": "code",
   "execution_count": null,
   "metadata": {
    "autoscroll": false,
    "collapsed": false,
    "ein.hycell": false,
    "ein.tags": "worksheet-0",
    "slideshow": {
     "slide_type": "-"
    }
   },
   "outputs": [],
   "source": [
    "a = [1,2,3,4,5]\n",
    "b = a[:]\n",
    "a[2] = 'a'"
   ]
  },
  {
   "cell_type": "code",
   "execution_count": null,
   "metadata": {
    "autoscroll": false,
    "collapsed": false,
    "ein.hycell": false,
    "ein.tags": "worksheet-0",
    "slideshow": {
     "slide_type": "-"
    }
   },
   "outputs": [],
   "source": [
    "b"
   ]
  },
  {
   "cell_type": "code",
   "execution_count": null,
   "metadata": {
    "autoscroll": false,
    "collapsed": false,
    "ein.hycell": false,
    "ein.tags": "worksheet-0",
    "slideshow": {
     "slide_type": "-"
    }
   },
   "outputs": [],
   "source": [
    "a"
   ]
  },
  {
   "cell_type": "markdown",
   "metadata": {
    "ein.tags": "worksheet-0",
    "slideshow": {
     "slide_type": "-"
    }
   },
   "source": [
    "## For loops\n",
    "\n",
    "For loops are an important control flow process in programming and is\n",
    "often one of the easiest ways to solve a problem. A useful place to learn\n",
    "more would be to check out the\n",
    "[python tutorial](https://docs.python.org/3/tutorial/controlflow.html#for-statements),\n",
    "but we will jump right in and show three ways to solve the same task. The first is by\n",
    "indexing elements.\n"
   ]
  },
  {
   "cell_type": "code",
   "execution_count": null,
   "metadata": {
    "autoscroll": false,
    "collapsed": false,
    "ein.hycell": false,
    "ein.tags": "worksheet-0",
    "slideshow": {
     "slide_type": "-"
    }
   },
   "outputs": [],
   "source": [
    "pets = ['cat', 'dog', 'bird', 'elephant']\n",
    "output = list()\n",
    "for i in range(len(pets)):\n",
    "    output.append(\"Hello \" + pets[i] + \"!\")\n",
    "output"
   ]
  },
  {
   "cell_type": "markdown",
   "metadata": {
    "ein.tags": "worksheet-0",
    "slideshow": {
     "slide_type": "-"
    }
   },
   "source": [
    "We can accomplish the same thing using python3 f-strings:"
   ]
  },
  {
   "cell_type": "code",
   "execution_count": null,
   "metadata": {
    "autoscroll": false,
    "collapsed": false,
    "ein.hycell": false,
    "ein.tags": "worksheet-0",
    "slideshow": {
     "slide_type": "-"
    }
   },
   "outputs": [],
   "source": [
    "pets = ['cat', 'dog', 'bird', 'elephant']\n",
    "output = list()\n",
    "for i in pets:\n",
    "    output.append(f\"Hello {i}!\")\n",
    "output"
   ]
  },
  {
   "cell_type": "markdown",
   "metadata": {
    "ein.tags": "worksheet-0",
    "slideshow": {
     "slide_type": "-"
    }
   },
   "source": [
    "We can also accomplish this with a list comprehension."
   ]
  },
  {
   "cell_type": "code",
   "execution_count": null,
   "metadata": {
    "autoscroll": false,
    "collapsed": false,
    "ein.hycell": false,
    "ein.tags": "worksheet-0",
    "slideshow": {
     "slide_type": "-"
    }
   },
   "outputs": [],
   "source": [
    "[\"Hello \" + i + \"!\" for i in pets]"
   ]
  },
  {
   "cell_type": "markdown",
   "metadata": {
    "ein.tags": "worksheet-0",
    "slideshow": {
     "slide_type": "-"
    }
   },
   "source": [
    "As you can see, there are many ways to accomplish the same task.\n",
    "Now, let's do some activities.\n",
    "\n",
    "# Activities\n",
    "\n",
    "- Use the `help()` function to learn about the built-in `sorted` function\n",
    "  to aid you in sorting a list of the first 5 natural numbers in both \n",
    "  ascending and descending order.\n",
    "- The fibinacci sequence starts with the first two elements equal to 1\n",
    "  and every number after as the sum of the previous two numbers\n",
    "  (i.e. 1, 1, 2, 3, 5, 8, 13, ...). Use each method for constructing a\n",
    "  for-loop to obtain a list of the first 50 fibinacci numbers.\n",
    "- Use the `help()` function on the `zip` function to learn what the\n",
    "  zip function does and use it to pair your fibinacci numbers with \n",
    "  number associating the fibinacci number to its index in the sequence\n",
    "  (i.e. 8 is the 6th element in the sequence).\n",
    "  \n",
    "Hint: Lists are iterables and you can use the `list()` function on a\n",
    "`zip` object to coerce the zip object into a human readable list."
   ]
  },
  {
   "cell_type": "code",
   "execution_count": null,
   "metadata": {
    "autoscroll": false,
    "collapsed": false,
    "ein.hycell": false,
    "ein.tags": "worksheet-0",
    "slideshow": {
     "slide_type": "-"
    }
   },
   "outputs": [],
   "source": []
  }
 ],
 "metadata": {
  "kernelspec": {
   "argv": [
    "python",
    "-m",
    "ipykernel_launcher",
    "-f",
    "{connection_file}"
   ],
   "display_name": "Python 3",
   "env": null,
   "interrupt_mode": "signal",
   "language": "python",
   "metadata": null,
   "name": "python3"
  },
  "language_info": {
   "codemirror_mode": {
    "name": "ipython",
    "version": 3
   },
   "file_extension": ".py",
   "mimetype": "text/x-python",
   "name": "python",
   "nbconvert_exporter": "python",
   "pygments_lexer": "ipython3",
   "version": "3.7.4"
  },
  "name": "workshop02_lists_and_loops.ipynb"
 },
 "nbformat": 4,
 "nbformat_minor": 2
}
