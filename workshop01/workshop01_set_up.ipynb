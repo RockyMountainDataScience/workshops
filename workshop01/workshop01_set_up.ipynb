{
 "cells": [
  {
   "cell_type": "markdown",
   "metadata": {},
   "source": [
    "## Rocky Mountain Data Science Workshop 1\n",
    "\n",
    "1. Intro \n",
    "2. Set-up Anaconda-Navigator and open Jupyter Notebook\n",
    "3. Python Skills\n",
    "4. Programming Task"
   ]
  },
  {
   "cell_type": "markdown",
   "metadata": {},
   "source": [
    "## Anaconda-Navigator\n",
    "\n",
    "https://www.anaconda.com/\n",
    "\n",
    "Download Steps:\n",
    "    - Select download button\n",
    "    - Select operating system\n",
    "    - Download distribution for Python 3.7   \n",
    "   ###### ---- if you have code dependent on Python 2.7, don't download Python 3.7---"
   ]
  },
  {
   "cell_type": "markdown",
   "metadata": {},
   "source": [
    "## Jupyter Notebook\n",
    "\n",
    "Launch Anaconda-Navigator\n",
    "\n",
    "Launch Jupyter Notebook - will open up in a web browser\n",
    "\n",
    "Select 'New' then 'Python 3'"
   ]
  },
  {
   "cell_type": "markdown",
   "metadata": {},
   "source": [
    "## Python Skills\n",
    "\n",
    "#### Storing information"
   ]
  },
  {
   "cell_type": "code",
   "execution_count": null,
   "metadata": {},
   "outputs": [],
   "source": [
    "Num = 7\n",
    "Message = 'Welcome to RMDS!'"
   ]
  },
  {
   "cell_type": "markdown",
   "metadata": {},
   "source": [
    "#### Printing stored information\n"
   ]
  },
  {
   "cell_type": "code",
   "execution_count": null,
   "metadata": {},
   "outputs": [],
   "source": [
    "print(Num)\n",
    "print(Message)"
   ]
  },
  {
   "cell_type": "code",
   "execution_count": null,
   "metadata": {},
   "outputs": [],
   "source": [
    "print(Num + Message)"
   ]
  },
  {
   "cell_type": "markdown",
   "metadata": {},
   "source": [
    "#### Using a built-in function"
   ]
  },
  {
   "cell_type": "code",
   "execution_count": null,
   "metadata": {},
   "outputs": [],
   "source": [
    "Num1 = 7\n",
    "Num2 = 3\n",
    "Num3 = 17\n",
    "\n",
    "Maximum = max(Num1,Num2,Num3)\n",
    "\n",
    "print(Maximum)"
   ]
  },
  {
   "cell_type": "markdown",
   "metadata": {},
   "source": [
    "## Programming Task\n",
    "\n",
    "#### Benchmark A\n",
    "    - Use a print statement to say Hello to the world\n",
    "#### Benchmark B\n",
    "    - Use a built-in function to find the smallest of three numbers\n",
    "#### Benchmark C\n",
    "    - Use conditional statements to find the smallest of two numbers without a built-in function"
   ]
  },
  {
   "cell_type": "code",
   "execution_count": null,
   "metadata": {},
   "outputs": [],
   "source": []
  }
 ],
 "metadata": {
  "kernelspec": {
   "display_name": "Python 3",
   "language": "python",
   "name": "python3"
  },
  "language_info": {
   "codemirror_mode": {
    "name": "ipython",
    "version": 3
   },
   "file_extension": ".py",
   "mimetype": "text/x-python",
   "name": "python",
   "nbconvert_exporter": "python",
   "pygments_lexer": "ipython3",
   "version": "3.7.1"
  }
 },
 "nbformat": 4,
 "nbformat_minor": 2
}
