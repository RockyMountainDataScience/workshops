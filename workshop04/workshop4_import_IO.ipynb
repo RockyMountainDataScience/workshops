{
 "cells": [
  {
   "cell_type": "markdown",
   "metadata": {},
   "source": [
    "## Import Statements\n",
    "\n",
    "- Import statements link your working file to a separate code base sometimes called a library or a module\n",
    "- Importing libraries allow you to use data structures and functions that are maintained within that library \n",
    "\n",
    "#### Some Common Data Science Libraries \n",
    "- numpy : Numerical Python - used for numerical operations (similar to matlab,R)\n",
    "- sklearn : Scikit-learn - lots of Machine Learning databases and other scientific applications\n",
    "- opencv : OpenCV - used for Computer Vision applications (similar to matlab's imaging toolbox)\n",
    "- matplotlib : Matlab Plotting Library - 2D plotting tools\n",
    "- pandas : Python Data Analysis Library - holds lots of data analysis tools\n",
    "- pytorch : computing library focusing on deep learning\n",
    "- tensorflow : computing library focuing on deep learning\n",
    "\n",
    "#### Maintaining/updating libraries\n",
    "- Good news :: anaconda-navigator does a lot of maintenance behind the scenes\n",
    "- Bad news :: it doesn't maintain everything\n",
    "- pip and conda are command-line maintenance tools... they will also download libraries that anaconda-navigator doesn't manage"
   ]
  },
  {
   "cell_type": "code",
   "execution_count": null,
   "metadata": {},
   "outputs": [],
   "source": [
    "np.max([3,4,5])\n"
   ]
  },
  {
   "cell_type": "code",
   "execution_count": null,
   "metadata": {
    "scrolled": true
   },
   "outputs": [],
   "source": [
    "import numpy as np #library: numpy (renamed for less typing)\n",
    "\n",
    "np.max([3,4,5])"
   ]
  },
  {
   "cell_type": "code",
   "execution_count": null,
   "metadata": {},
   "outputs": [],
   "source": [
    "from sklearn import datasets #library: sklearn, specfic structures: datasets\n",
    "import matplotlib.pyplot as plt #library: matplotlib, specific structures: pyplot (renamed for less typing)\n",
    "\n",
    "mnist = datasets.load_digits() #load MNIST handwritten digits dataset (stored in scikit-learn library)\n",
    "\n",
    "plt.imshow(mnist.images[32]) #use matplotlib to display image 32\n",
    "plt.show()"
   ]
  },
  {
   "cell_type": "markdown",
   "metadata": {},
   "source": [
    "## Input/Output Streams\n",
    "- Input : read information from a file into our programming space\n",
    "- Output : write information from our programming space into a file\n"
   ]
  },
  {
   "cell_type": "code",
   "execution_count": null,
   "metadata": {},
   "outputs": [],
   "source": [
    "#IMPORT STREAM EXAMPLE\n",
    "\n",
    "import csv              #library : csv\n",
    "\n",
    "avocado_prices, avocado_regions = [],[]\n",
    "with open('avocado.csv','r') as f:     #opens file for reading (r)\n",
    "    reader = csv.reader(f)             #uses csv library, creates a data structure that will read from the file\n",
    "    next(reader)                       #skip header\n",
    "    for row in reader:                 #loop through file, storing information in the program\n",
    "        avocado_prices.append(float(row[0]))\n",
    "        avocado_regions.append(row[1])\n",
    "f.close()\n",
    "mean_avocado   = np.mean(avocado_prices)\n",
    "print(f\"Mean avocado price $ {round(mean_avocado, 2)}\")\n"
   ]
  },
  {
   "cell_type": "code",
   "execution_count": null,
   "metadata": {},
   "outputs": [],
   "source": [
    "#OUTPUT STREAM EXAMPLE\n",
    "\n",
    "with open('test.txt','w+') as f:  #opens file for writing (w), and will create a file (+) if needed\n",
    "    f.write('Hello file!!')\n",
    "f.close()\n",
    "# f.write('ONE MORE TIME!!!')"
   ]
  },
  {
   "cell_type": "code",
   "execution_count": null,
   "metadata": {},
   "outputs": [],
   "source": [
    "#APPEND EXAMPLE\n",
    "\n",
    "with open('test.txt','a+') as f:\n",
    "    f.write(\"\\nlet's add something... \")\n",
    "f.close()"
   ]
  },
  {
   "cell_type": "markdown",
   "metadata": {},
   "source": [
    "## Tasks\n",
    "1. Use a looping structure to display ten MNIST digits\n",
    "2. Use the KAGGLE Mount Rainer Weather and Climbing Data to find the climbing route with the highest success rate.\n",
    "        - Hint: think about what is stored where when you open the file\n",
    "3. Create a file that stores the weather conditions for every successful attempt on the climbing route you found in 2.\n",
    "        - Hint: the date is an entry that both the weather data and the climbing data have in common\n",
    "4. Use the avocado prices file to find the average avocado price without storing all the information from the file in your program.\n",
    "        - Hint: think about what you would need to do if the file was so large that you couldn't store all of the price information in your computer's memory"
   ]
  },
  {
   "cell_type": "code",
   "execution_count": null,
   "metadata": {},
   "outputs": [],
   "source": []
  }
 ],
 "metadata": {
  "kernelspec": {
   "display_name": "Python 3",
   "language": "python",
   "name": "python3"
  },
  "language_info": {
   "codemirror_mode": {
    "name": "ipython",
    "version": 3
   },
   "file_extension": ".py",
   "mimetype": "text/x-python",
   "name": "python",
   "nbconvert_exporter": "python",
   "pygments_lexer": "ipython3",
   "version": "3.7.4"
  }
 },
 "nbformat": 4,
 "nbformat_minor": 2
}
