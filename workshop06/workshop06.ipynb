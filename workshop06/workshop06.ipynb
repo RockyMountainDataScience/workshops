{
 "cells": [
  {
   "cell_type": "markdown",
   "metadata": {},
   "source": [
    "# Numpy\n",
    "\n",
    "Numpy is a numerical library in python\n",
    "Check out all of the [numpy routines](https://numpy.org/devdocs/reference/routines.html) to get a good overview of what numpy can do.\n",
    "\n",
    "Here's a short summary of some of its functionality:\n",
    "\n",
    "### Array Creation\n",
    "arange, array, copy, empty, empty_like, eye, fromfile, fromfunction, identity, linspace, logspace, mgrid, ogrid, ones, ones_like, r, zeros, zeros_like\n",
    "\n",
    "### Conversions\n",
    "ndarray.astype, atleast_1d, atleast_2d, atleast_3d, mat\n",
    "\n",
    "### Manipulations\n",
    "array_split, column_stack, concatenate, diagonal, dsplit, dstack, hsplit, hstack, ndarray.item, newaxis, ravel, repeat, reshape, resize, squeeze, swapaxes, take, transpose, vsplit, vstack\n",
    "\n",
    "### Questions\n",
    "all, any, nonzero, where\n",
    "\n",
    "### Ordering\n",
    "argmax, argmin, argsort, max, min, ptp, searchsorted, sort\n",
    "\n",
    "### Operations\n",
    "choose, compress, cumprod, cumsum, inner, ndarray.fill, imag, prod, put, putmask, real, sum\n",
    "\n",
    "### Basic Statistics\n",
    "cov, mean, std, var\n",
    "\n",
    "### Basic Linear Algebra\n",
    "cross, dot, outer, linalg.svd, vdot\n",
    "\n",
    "\n",
    "Let's showcase some functionality of numpy.  Let's begin by reading in some packages and printing some information about numpy's configuration.\n",
    "\n"
   ]
  },
  {
   "cell_type": "code",
   "execution_count": null,
   "metadata": {},
   "outputs": [],
   "source": [
    "# Import packages\n",
    "import io\n",
    "import numpy as np\n",
    "import matplotlib.pyplot as plt\n",
    "\n",
    "# Print some info about numpy\n",
    "print(np.__version__)\n",
    "np.show_config()\n"
   ]
  },
  {
   "cell_type": "markdown",
   "metadata": {},
   "source": [
    "It's important to know that the fundamental data structure in numpy is the multidimensional array (ndarray type in numpy). Let's look at a number of ways to instantiate (create an instance of) an ndarray type object."
   ]
  },
  {
   "cell_type": "markdown",
   "metadata": {},
   "source": [
    "# Creating Arrays\n",
    "[Array Creation Routines](https://numpy.org/devdocs/reference/routines.array-creation.html)"
   ]
  },
  {
   "cell_type": "code",
   "execution_count": null,
   "metadata": {},
   "outputs": [],
   "source": [
    "# instantiate a multidimensional array (ndarray) of shape (i, j, k, l, ...)\n",
    "x = np.ndarray((2, 3))\n",
    "print(x)"
   ]
  },
  {
   "cell_type": "code",
   "execution_count": null,
   "metadata": {},
   "outputs": [],
   "source": [
    "x = np.ndarray((2, 3, 4))\n",
    "print(x)"
   ]
  },
  {
   "cell_type": "code",
   "execution_count": null,
   "metadata": {},
   "outputs": [],
   "source": [
    "x = np.ndarray((2, 3, 4, 5))\n",
    "print(x)"
   ]
  },
  {
   "cell_type": "code",
   "execution_count": null,
   "metadata": {},
   "outputs": [],
   "source": [
    "# instantiate a multidimensional array (ndarray) of shape (i, j, k, l, ...)\n",
    "x = np.empty((2, 3))\n",
    "print(x)"
   ]
  },
  {
   "cell_type": "code",
   "execution_count": null,
   "metadata": {},
   "outputs": [],
   "source": [
    "# Instantiate with zeros\n",
    "x = np.zeros((3, 5))\n",
    "print(x)"
   ]
  },
  {
   "cell_type": "code",
   "execution_count": null,
   "metadata": {},
   "outputs": [],
   "source": [
    "x = np.ones((3, 5))\n",
    "print(x)"
   ]
  },
  {
   "cell_type": "code",
   "execution_count": null,
   "metadata": {},
   "outputs": [],
   "source": [
    "x = np.full((3, 5), 3)\n",
    "print(x)"
   ]
  },
  {
   "cell_type": "code",
   "execution_count": null,
   "metadata": {},
   "outputs": [],
   "source": [
    "# Instantiate with random uniform draws\n",
    "x = np.random.random((3, 5))\n",
    "print(x)"
   ]
  },
  {
   "cell_type": "code",
   "execution_count": null,
   "metadata": {},
   "outputs": [],
   "source": [
    "# Numpy is Fast!!\n",
    "x = np.random.random((10000, 10000))\n",
    "\n",
    "# Print memory usage of this numpy array\n",
    "print(\"%d bytes\" % (x.size * x.itemsize))"
   ]
  },
  {
   "cell_type": "code",
   "execution_count": null,
   "metadata": {},
   "outputs": [],
   "source": [
    "# Read in data from a text string or a csv\n",
    "data = u\"1, 2, 3\\n4, 5, 6\"\n",
    "print(data)\n",
    "x = np.genfromtxt(io.StringIO(data), delimiter=\",\")\n",
    "print(x)\n",
    "\n",
    "# or something like:\n",
    "# np.genfromtxt('mydata.csv', delimiter=\",\")\n",
    "\n"
   ]
  },
  {
   "cell_type": "code",
   "execution_count": null,
   "metadata": {},
   "outputs": [],
   "source": [
    "# Coerce an object to a numpy array\n",
    "x = np.asarray([1, 2, 3, 4, 5, 6])\n",
    "print(x)\n",
    "\n",
    "# Reshape an array\n",
    "x = x.reshape((3, 2))\n",
    "print(x)"
   ]
  },
  {
   "cell_type": "markdown",
   "metadata": {},
   "source": [
    "# Indexing"
   ]
  },
  {
   "cell_type": "code",
   "execution_count": null,
   "metadata": {},
   "outputs": [],
   "source": [
    "print(x[0,0]) # Extract a single element"
   ]
  },
  {
   "cell_type": "code",
   "execution_count": null,
   "metadata": {},
   "outputs": [],
   "source": [
    "print(x[0,:]) # Slicing"
   ]
  },
  {
   "cell_type": "code",
   "execution_count": null,
   "metadata": {},
   "outputs": [],
   "source": [
    "print(x[-2]) # 1st row from the last"
   ]
  },
  {
   "cell_type": "code",
   "execution_count": null,
   "metadata": {},
   "outputs": [],
   "source": [
    "print(x[::2,1]) # Print first column of every even row"
   ]
  },
  {
   "cell_type": "markdown",
   "metadata": {},
   "source": [
    "# Some Mathematical Operations\n",
    "[Math routines](https://docs.scipy.org/doc/numpy-1.14.0/reference/routines.math.html)"
   ]
  },
  {
   "cell_type": "code",
   "execution_count": null,
   "metadata": {},
   "outputs": [],
   "source": [
    "x = np.asarray([1, 2, 3, 4, 5, 6])\n",
    "print(x.sum())       # Sum"
   ]
  },
  {
   "cell_type": "code",
   "execution_count": null,
   "metadata": {},
   "outputs": [],
   "source": [
    "print(x.cumsum())    # Cumulative sum"
   ]
  },
  {
   "cell_type": "code",
   "execution_count": null,
   "metadata": {},
   "outputs": [],
   "source": [
    "print(x.cumprod())   # Cumulative Product"
   ]
  },
  {
   "cell_type": "code",
   "execution_count": null,
   "metadata": {},
   "outputs": [],
   "source": [
    "print(np.exp(x))     # Elementwise exponentiation"
   ]
  },
  {
   "cell_type": "code",
   "execution_count": null,
   "metadata": {},
   "outputs": [],
   "source": [
    "print(np.diff(x))    # Difference with previous element"
   ]
  },
  {
   "cell_type": "code",
   "execution_count": null,
   "metadata": {},
   "outputs": [],
   "source": [
    "np.random.shuffle(x)       # Shuffle the array\n",
    "print(x)\n",
    "print(np.argmin(x))        # Minimum element\n",
    "print(np.argmax(x))        # Minimum element"
   ]
  },
  {
   "cell_type": "markdown",
   "metadata": {},
   "source": [
    "# Some basic statistics"
   ]
  },
  {
   "cell_type": "code",
   "execution_count": null,
   "metadata": {},
   "outputs": [],
   "source": [
    "x.mean() # Calculate Mean"
   ]
  },
  {
   "cell_type": "code",
   "execution_count": null,
   "metadata": {},
   "outputs": [],
   "source": [
    "x.std() # Calculate standard deviation"
   ]
  },
  {
   "cell_type": "code",
   "execution_count": null,
   "metadata": {},
   "outputs": [],
   "source": [
    "x.var() # Calculate variance"
   ]
  },
  {
   "cell_type": "markdown",
   "metadata": {},
   "source": [
    "# Linear Algebra\n",
    "[Linear Algebra Routines](https://docs.scipy.org/doc/numpy-1.14.0/reference/routines.linalg.html)"
   ]
  },
  {
   "cell_type": "code",
   "execution_count": null,
   "metadata": {},
   "outputs": [],
   "source": [
    "x = np.random.random((3, 4)) # Generate a random 3x4 matrix\n",
    "\n",
    "x = np.mat(x) # Interpret as a matrix\n",
    "print(x)"
   ]
  },
  {
   "cell_type": "code",
   "execution_count": null,
   "metadata": {},
   "outputs": [],
   "source": [
    "y = x.transpose() # Matrix Transpose\n",
    "y = x.T\n",
    "print(y)"
   ]
  },
  {
   "cell_type": "code",
   "execution_count": null,
   "metadata": {},
   "outputs": [],
   "source": [
    "z = np.matmul(x, y) # Matrix Multiplication\n",
    "print(z)\n",
    "z = x @ y # Shorthand for the same thing\n",
    "print(z)"
   ]
  },
  {
   "cell_type": "code",
   "execution_count": null,
   "metadata": {},
   "outputs": [],
   "source": [
    "print(np.linalg.eig(z)) # Eigenvalue / Eigenvectors"
   ]
  },
  {
   "cell_type": "code",
   "execution_count": null,
   "metadata": {},
   "outputs": [],
   "source": [
    "print(np.linalg.svd(z)) # Singular Value Decomposition"
   ]
  },
  {
   "cell_type": "code",
   "execution_count": null,
   "metadata": {},
   "outputs": [],
   "source": [
    "print(np.linalg.inv(z)) # Matrix Inverse"
   ]
  },
  {
   "cell_type": "markdown",
   "metadata": {},
   "source": [
    "# Compute a boostrap CI Example"
   ]
  },
  {
   "cell_type": "markdown",
   "metadata": {},
   "source": [
    "The boostrap is a technique for estimating the distribution of a test statistic nonparametrically. The basic idea is that if our sample is representative of our population, than samples where we sample from our data with replacement are also representative of the population. We can use this idea then to build distributions of test statistics nonparametrically and we can do things with this distribution to estimate quantities of interest nonparametrically.\n",
    "\n",
    "Let's walk through building a bootstrap distribution to estimate th 95% confidence interval of the mean for a single quantitative variable."
   ]
  },
  {
   "cell_type": "code",
   "execution_count": null,
   "metadata": {},
   "outputs": [],
   "source": [
    "# Build 95% bootstrap CI\n",
    "x = np.random.gamma(10, 2, 100) # Draw a sample of size 100 from a Gamma(10, 2) distribution\n",
    "\n",
    "plt.hist(x, bins=50, normed=1)       # Plot a histogram of this sample\n",
    "plt.show()\n"
   ]
  },
  {
   "cell_type": "code",
   "execution_count": null,
   "metadata": {},
   "outputs": [],
   "source": [
    "\n",
    "N = 1000 # number of bootstrap samples\n",
    "idx = np.random.randint(0, x.size, (N, x.size)) # Multidimensional array of our indices\n",
    "idx\n"
   ]
  },
  {
   "cell_type": "code",
   "execution_count": null,
   "metadata": {},
   "outputs": [],
   "source": [
    "bootstrap_samples = x[idx]\n",
    "bootstrap_samples"
   ]
  },
  {
   "cell_type": "code",
   "execution_count": null,
   "metadata": {},
   "outputs": [],
   "source": [
    "plt.hist(bootstrap_samples[1], bins=50, normed=1)       # matplotlib version (plot)\n",
    "plt.show()"
   ]
  },
  {
   "cell_type": "code",
   "execution_count": null,
   "metadata": {},
   "outputs": [],
   "source": [
    "means = x[idx].mean(axis=1)\n",
    "means\n",
    "plt.hist(means, bins=50, normed=1)       # matplotlib version (plot)\n",
    "plt.show()"
   ]
  },
  {
   "cell_type": "code",
   "execution_count": null,
   "metadata": {},
   "outputs": [],
   "source": [
    "confint = np.percentile(means, [2.5, 97.5])\n",
    "print(confint)"
   ]
  },
  {
   "cell_type": "code",
   "execution_count": null,
   "metadata": {},
   "outputs": [],
   "source": [
    "# Same problem but using the apply_along_axis() function\n",
    "\n",
    "means = np.apply_along_axis(np.mean, 1, x[idx])\n",
    "\n",
    "plt.hist(means, bins=50, normed=1)       # matplotlib version (plot)\n",
    "plt.show()"
   ]
  },
  {
   "cell_type": "markdown",
   "metadata": {},
   "source": [
    "# Exercise\n",
    "\n",
    "Consider the following scenario. Suppose we work as a quality control engineer for a brewery in Dublin, Ireland. The brewing experts tell us that we need an original gravity of 1.080 for making their signature beer, but have been having a hard time hitting the mark with their new mashing process. They think they've sorted out their issues, and have gathered some data to help decide if they have worked out the kinks in their new process. They've come to you with their data and have asked for you to decide whether the mean original gravity of their new process is 1.080. To answer their question, we will conduct a one-sample t-test. Consider the following hypothesis:\n",
    "\n",
    "$$H_0: \\mu = \\mu_{0} = 1.080$$\n",
    "\n",
    "vs\n",
    "\n",
    "$$H_1: \\mu \\neq \\mu_{0}$$\n",
    "\n",
    "The t-statistic for a one-sample t-test is\n",
    "\n",
    "$$ t = \\frac{(\\bar{X} - \\mu_{0})}{s/ \\sqrt{n }}$$.\n",
    "\n",
    "Normally, to conduct this hypothesis test, we would calculate the t-statistic and compare it to the quantiles of a  t-distribution to calculate a p-value for this hypothesis test. However, we will estimate this via the bootstrap. That is, instead of comparing to the theoretical t-distribution, we will compare to the nonparametric bootstrap distribution. We will walk you through this process.\n",
    "\n",
    "1. Read in the csv of their data into a numpy array.\n",
    "2. Plot a histogram showing the distribution of their original gravity readings."
   ]
  },
  {
   "cell_type": "code",
   "execution_count": null,
   "metadata": {},
   "outputs": [],
   "source": []
  },
  {
   "cell_type": "code",
   "execution_count": null,
   "metadata": {},
   "outputs": [],
   "source": []
  },
  {
   "cell_type": "markdown",
   "metadata": {},
   "source": [
    "3. Write a function that takes a one-dimensional numpy array and outputs the t-statistic for comparing the sample mean to 1.080 (i.e. $\\mu_0 = 1.080$) and use it to calculate the t-statistic for the sample you drew."
   ]
  },
  {
   "cell_type": "code",
   "execution_count": null,
   "metadata": {},
   "outputs": [],
   "source": []
  },
  {
   "cell_type": "code",
   "execution_count": null,
   "metadata": {},
   "outputs": [],
   "source": []
  },
  {
   "cell_type": "markdown",
   "metadata": {},
   "source": [
    "Now, we want to build the bootstrap distribution of t-statistics. \n",
    "\n",
    "4. Obtain 1000 bootstrap samples of the data\n"
   ]
  },
  {
   "cell_type": "code",
   "execution_count": null,
   "metadata": {},
   "outputs": [],
   "source": []
  },
  {
   "cell_type": "markdown",
   "metadata": {},
   "source": [
    "5. Construct a numpy array that gives the t-statistic for each bootstrap sample.\n",
    "Hint: use the `apply_along_axis()`function"
   ]
  },
  {
   "cell_type": "code",
   "execution_count": null,
   "metadata": {},
   "outputs": [],
   "source": []
  },
  {
   "cell_type": "markdown",
   "metadata": {},
   "source": [
    "6. Plot a histogram of the distribution of t-statistics and add a red vertical line (use the `plt.axvline()` function) for the observed t-statistic (the one calculated on the original data)."
   ]
  },
  {
   "cell_type": "code",
   "execution_count": null,
   "metadata": {},
   "outputs": [],
   "source": []
  },
  {
   "cell_type": "markdown",
   "metadata": {},
   "source": [
    "Now, to compute the p-value, we count the number of bootstrapped t-statistics that are as or more extreme than the one we observed. If we let $t^*$ be the value we observed, then we are interested in the **proportion** of bootstrapped t-statistics are larger in absolute value (i.e. for which $t_b > |t^*|$).\n",
    "\n",
    "7. Compute this value to estimate the p-value associated with our hypothesis test of interest."
   ]
  },
  {
   "cell_type": "code",
   "execution_count": null,
   "metadata": {},
   "outputs": [],
   "source": []
  },
  {
   "cell_type": "markdown",
   "metadata": {},
   "source": [
    "8. Given your p-value, make a determination relevant to the engineer's question of interest at the $\\alpha = 0.05$ level (Hint: if our p-value is less than $\\alpha$, we reject the null hypothesis and if our p-value is greater than $\\alpha$ we fail to reject our null hypothesis)."
   ]
  },
  {
   "cell_type": "markdown",
   "metadata": {},
   "source": []
  }
 ],
 "metadata": {
  "kernelspec": {
   "display_name": "Python 3",
   "language": "python",
   "name": "python3"
  },
  "language_info": {
   "codemirror_mode": {
    "name": "ipython",
    "version": 3
   },
   "file_extension": ".py",
   "mimetype": "text/x-python",
   "name": "python",
   "nbconvert_exporter": "python",
   "pygments_lexer": "ipython3",
   "version": "3.7.3"
  }
 },
 "nbformat": 4,
 "nbformat_minor": 2
}
